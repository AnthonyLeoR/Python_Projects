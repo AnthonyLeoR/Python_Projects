{
 "cells": [
  {
   "cell_type": "code",
   "execution_count": 39,
   "id": "b0a098d0",
   "metadata": {},
   "outputs": [],
   "source": [
    "import pandas as pd\n",
    "import re\n",
    "import matplotlib.pyplot as plt"
   ]
  },
  {
   "cell_type": "code",
   "execution_count": 34,
   "id": "edefd5a4",
   "metadata": {},
   "outputs": [],
   "source": [
    "df= pd.read_csv(\"/Users/tygeurr/Downloads/ViewingActivity.csv\")\n",
    "df = df.loc[df[\"Supplemental Video Type\"].isna()]\n",
    "df.shape\n",
    "df.head()\n",
    "\n",
    "# Cleaning\n",
    "#Lors de l'encodage de mon df '\\xa0' est apparu un peu partout dans mes str empechant tout \n",
    "# découpage correct donc on le retire\n",
    "\n",
    "df['Title'] = df['Title'].str.replace('\\xa0', ' ')\n",
    "df['Start Time'] = pd.to_datetime(df['Start Time'], utc=True)\n",
    "df['Duration'] = pd.to_timedelta(df['Duration'])"
   ]
  },
  {
   "cell_type": "code",
   "execution_count": 35,
   "id": "434fcf33",
   "metadata": {},
   "outputs": [
    {
     "data": {
      "text/plain": [
       "'Le jeu de la dame: Mini-série: Ouvertures (Épisode 1)'"
      ]
     },
     "execution_count": 35,
     "metadata": {},
     "output_type": "execute_result"
    }
   ],
   "source": [
    "df['Title'][1620]"
   ]
  },
  {
   "cell_type": "code",
   "execution_count": 4,
   "id": "2b6808e5",
   "metadata": {},
   "outputs": [],
   "source": [
    "def extract_serie(title):\n",
    "    # Utiliser une expression régulière pour extraire les informations de la série\n",
    "    pattern = r'^(.*?): Saison (\\d+): (.*?) \\(\\Épisode (\\d+)\\)'\n",
    "    match = re.match(pattern, title)\n",
    "\n",
    "    if match:\n",
    "        series_name, season_number, episode_name, episode_number = match.groups()\n",
    "        return series_name, season_number, episode_name, episode_number\n",
    "    else:\n",
    "        return None, None, None, None\n",
    "\n",
    "def extract_mserie(title):\n",
    "    # Utiliser une expression régulière pour extraire les informations de la mini-série\n",
    "    pattern = r'^(.*?): Mini-série: (.*?)(?: \\((Épisode \\d+)\\))?$'\n",
    "    match = re.match(pattern, title)\n",
    "\n",
    "    if match:\n",
    "        series_name, episode_name, episode_number = match.groups()\n",
    "        return series_name, episode_name, episode_number\n",
    "    else:\n",
    "        return None, None, None"
   ]
  },
  {
   "cell_type": "code",
   "execution_count": 5,
   "id": "f58803bd",
   "metadata": {},
   "outputs": [],
   "source": [
    "def trier(df):\n",
    "    # Créez la colonne 'Type' pour classifier les contenus\n",
    "    df['Type'] = ''\n",
    "    for index, row in df.iterrows():\n",
    "        titre = row['Title']\n",
    "        # Identifiez le type (Série, Mini-Série ou Film)\n",
    "        if 'Saison' in titre:  # Donc il s'agit d'une série\n",
    "            df.at[index, 'Type'] = 'Série'\n",
    "        elif 'Mini-série' in titre:  # Il s'agit d'une mini-série\n",
    "            df.at[index, 'Type'] = 'Mini-Série'\n",
    "        else:  # Il s'agit d'un long-métrage\n",
    "            df.at[index, 'Type'] = 'Film'\n",
    "    return df\n"
   ]
  },
  {
   "cell_type": "code",
   "execution_count": null,
   "id": "9547fcf3",
   "metadata": {},
   "outputs": [],
   "source": [
    "#df trié contenant tout le contenu complet(pas de teaser/bande annonce/promoshoot etc)\n",
    "data= trier(df.loc[df[\"Supplemental Video Type\"].isna()])\n",
    "data.head()"
   ]
  },
  {
   "cell_type": "code",
   "execution_count": 38,
   "id": "675cf29c",
   "metadata": {},
   "outputs": [
    {
     "data": {
      "text/plain": [
       "Profile Name                            object\n",
       "Start Time                 datetime64[ns, UTC]\n",
       "Duration                       timedelta64[ns]\n",
       "Attributes                              object\n",
       "Title                                   object\n",
       "Supplemental Video Type                 object\n",
       "Device Type                             object\n",
       "Bookmark                                object\n",
       "Latest Bookmark                         object\n",
       "Country                                 object\n",
       "Type                                    object\n",
       "dtype: object"
      ]
     },
     "execution_count": 38,
     "metadata": {},
     "output_type": "execute_result"
    }
   ],
   "source": [
    "data.dtypes"
   ]
  },
  {
   "cell_type": "code",
   "execution_count": 43,
   "id": "83aa3e2e",
   "metadata": {},
   "outputs": [
    {
     "name": "stdout",
     "output_type": "stream",
     "text": [
      "Il n'y a qu'un seul utilisateur qui est Anthony. On peut se passer de la colonne Profile Name\n",
      "Le contenu a été consommé sur 9 appareils différents\n"
     ]
    },
    {
     "data": {
      "image/png": "[encoded data removed]",
      "text/plain": [
       "<Figure size 432x288 with 1 Axes>"
      ]
     },
     "metadata": {
      "needs_background": "light"
     },
     "output_type": "display_data"
    },
    {
     "name": "stdout",
     "output_type": "stream",
     "text": [
      "L'utilisateur Anthony a visionné 42 days 22:08:22 de contenu Netflix en tout\n"
     ]
    }
   ],
   "source": [
    "#Analyse \n",
    "user=data[\"Profile Name\"].unique()[0]\n",
    "print(f\"Il n'y a qu'un seul utilisateur qui est {user}. On peut se passer de la colonne Profile Name\")\n",
    "\n",
    "\n",
    "devices=data[\"Device Type\"].unique()\n",
    "print(f\"Le contenu a été consommé sur {len(devices)} appareils différents\")\n",
    "# Par la suite on peut faire des analyses sur le type de contenu le plus consommé par appareils\n",
    "\n",
    "\n",
    "#Visualisation \n",
    "data['Device Type'].value_counts().plot(kind='bar')\n",
    "plt.show()\n",
    "\n",
    "#Temps total de visionnage\n",
    "time=data['Duration'].sum()\n",
    "print(f\"L'utilisateur {user} a visionné {time} de contenu Netflix en tout\")"
   ]
  },
  {
   "cell_type": "code",
   "execution_count": null,
   "id": "08b27a80",
   "metadata": {},
   "outputs": [],
   "source": [
    "#Traitement des données  supplémentaire Partie 1\n",
    "\n",
    "\n",
    "#DF contenant toutes les séries\n",
    "series=data[data[\"Type\"]==\"Série\"]\n",
    "\n",
    "#Création de nouvelles colonnes \n",
    "result = {\"Show\": [], \"Saison\": [], \"Titre\": [], \"Numéro\": []}\n",
    "for title in series[\"Title\"]:\n",
    "    sh,s,t,n=extract_serie(title)\n",
    "    result[\"Show\"].append(sh)\n",
    "    result[\"Saison\"].append(s)\n",
    "    result[\"Titre\"].append(t)\n",
    "    result[\"Numéro\"].append(n)\n",
    "\n",
    "#updating du df series\n",
    "series[\"Show\"]= result[\"Show\"]\n",
    "series[\"Saison\"]= result[\"Saison\"]\n",
    "series[\"Titre\"]= result[\"Titre\"]\n",
    "series[\"Numéro\"]= result[\"Numéro\"]\n",
    "\n",
    "\n",
    "series= series.drop([\"Title\",\"Profile Name\", \"Supplemental Video Type\"], axis=1)\n",
    "series.head()\n",
    "print(f\"Notre dataframe des séries a {series.shape[0]} lignes et {series.shape[1]} colonnes\")"
   ]
  },
  {
   "cell_type": "code",
   "execution_count": null,
   "id": "8e482b3e",
   "metadata": {},
   "outputs": [],
   "source": [
    "#Traitement des données Partie 2\n",
    "\n",
    "mseries= data[data[\"Type\"]==\"Mini-Série\"]\n",
    "\n",
    "#Création de nouvelles colonnes \n",
    "result = {\"Show\": [], \"Titre\": [], \"Épisode\": []}\n",
    "for title in mseries[\"Title\"]:\n",
    "    sh,t,n=extract_mserie(title)\n",
    "    result[\"Show\"].append(sh)\n",
    "    result[\"Titre\"].append(t)\n",
    "    result[\"Épisode\"].append(n)\n",
    "    \n",
    "#updating du df mseries\n",
    "\n",
    "mseries[\"Show\"]= result[\"Show\"]\n",
    "mseries[\"Titre\"]= result[\"Titre\"]\n",
    "mseries[\"Episode\"]= result[\"Épisode\"]\n",
    "\n",
    "mseries = mseries.drop([\"Title\",\"Profile Name\", \"Attributes\", \"Supplemental Video Type\"], axis=1)\n",
    "mseries.head(10)"
   ]
  },
  {
   "cell_type": "code",
   "execution_count": 27,
   "id": "f80ab202",
   "metadata": {},
   "outputs": [
    {
     "data": {
      "text/plain": [
       "(220, 9)"
      ]
     },
     "execution_count": 27,
     "metadata": {},
     "output_type": "execute_result"
    }
   ],
   "source": [
    "#Traitement de la data partie 3\n",
    "\n",
    "#df contenant tous les long-métrages\n",
    "films=data[data[\"Type\"]==\"Film\"]\n",
    "\n",
    "#traitements suivants??????\n",
    "films= films.drop([\"Profile Name\", \"Supplemental Video Type\"], axis=1)\n",
    "films.shape\n",
    "\n",
    "\n",
    "#Modifs supp: Ajoutez des tags"
   ]
  },
  {
   "cell_type": "code",
   "execution_count": null,
   "id": "247a87d1",
   "metadata": {
    "scrolled": true
   },
   "outputs": [],
   "source": []
  },
  {
   "cell_type": "code",
   "execution_count": null,
   "id": "2654709c",
   "metadata": {},
   "outputs": [],
   "source": [
    "\n"
   ]
  }
 ],
 "metadata": {
  "kernelspec": {
   "display_name": "Python 3 (ipykernel)",
   "language": "python",
   "name": "python3"
  },
  "language_info": {
   "codemirror_mode": {
    "name": "ipython",
    "version": 3
   },
   "file_extension": ".py",
   "mimetype": "text/x-python",
   "name": "python",
   "nbconvert_exporter": "python",
   "pygments_lexer": "ipython3",
   "version": "3.9.12"
  }
 },
 "nbformat": 4,
 "nbformat_minor": 5
}
